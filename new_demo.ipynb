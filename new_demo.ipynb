{
 "cells": [
  {
   "cell_type": "code",
   "execution_count": 1,
   "metadata": {},
   "outputs": [],
   "source": [
    "# add this notebook's directory to path\n",
    "import sys, os\n",
    "current_dir = os.getcwd()\n",
    "parent_dir = os.path.abspath(os.path.join(os.getcwd(), os.pardir))\n",
    "\n",
    "# add this notebook's directory to path\n",
    "import sys, os\n",
    "sys.path.append(os.getcwd())\n",
    "\n",
    "# path to parent directory \n",
    "parent_dir = os.path.abspath(os.path.join(os.getcwd(), os.pardir))\n",
    "\n",
    "from easy_boto3 import aws_metadata\n",
    "from easy_boto3.ec2_management.ec2_single_instance_management import launch_instance, get_instance_public_ip ,stop_instance, terminate_instance\n",
    "from easy_boto3.ec2_management.startup_script_management import make_rd_startup_script, read_startup_script, inject_aws_creds\n",
    "\n",
    "%load_ext autoreload\n",
    "%autoreload 2"
   ]
  },
  {
   "cell_type": "code",
   "execution_count": 2,
   "metadata": {},
   "outputs": [],
   "source": [
    "# startup script path \n",
    "startup_script_path = current_dir + '/startup_scripts/example_startup_script.sh'\n",
    "\n",
    "# read in startup script\n",
    "startup_script = read_startup_script(startup_script_path)\n",
    "\n",
    "# inject aws creds into base script\n",
    "startup_script = inject_aws_creds(startup_script)"
   ]
  },
  {
   "cell_type": "code",
   "execution_count": 3,
   "metadata": {},
   "outputs": [
    {
     "name": "stdout",
     "output_type": "stream",
     "text": [
      "Instance created: i-0925e2265b5ab1e63\n",
      "SUCCESS: launch_instance succeeded\n"
     ]
    },
    {
     "data": {
      "text/plain": [
       "ec2.Instance(id='i-0925e2265b5ab1e63')"
      ]
     },
     "execution_count": 3,
     "metadata": {},
     "output_type": "execute_result"
    }
   ],
   "source": [
    "# optinally set config options\n",
    "region = 'us-west-2'\n",
    "InstanceName = 'example_worker'\n",
    "InstanceType = 't2.micro'\n",
    "ImageId = 'ami-03f65b8614a860c29'\n",
    "    \n",
    "launch_instance(startup_script=startup_script,\n",
    "                region=region,\n",
    "                InstanceName=InstanceName,\n",
    "                InstanceType=InstanceType,\n",
    "                ImageId=ImageId)"
   ]
  }
 ],
 "metadata": {
  "kernelspec": {
   "display_name": ".venv",
   "language": "python",
   "name": "python3"
  },
  "language_info": {
   "codemirror_mode": {
    "name": "ipython",
    "version": 3
   },
   "file_extension": ".py",
   "mimetype": "text/x-python",
   "name": "python",
   "nbconvert_exporter": "python",
   "pygments_lexer": "ipython3",
   "version": "3.9.1"
  },
  "orig_nbformat": 4
 },
 "nbformat": 4,
 "nbformat_minor": 2
}
