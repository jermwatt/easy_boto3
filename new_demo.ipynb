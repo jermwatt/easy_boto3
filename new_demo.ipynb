{
 "cells": [
  {
   "cell_type": "code",
   "execution_count": 1,
   "metadata": {},
   "outputs": [],
   "source": [
    "# add this notebook's directory to path\n",
    "import sys, os\n",
    "current_dir = os.getcwd()\n",
    "parent_dir = os.path.abspath(os.path.join(os.getcwd(), os.pardir))\n",
    "\n",
    "# add this notebook's directory to path\n",
    "import sys, os\n",
    "sys.path.append(os.getcwd())\n",
    "\n",
    "# path to parent directory \n",
    "parent_dir = os.path.abspath(os.path.join(os.getcwd(), os.pardir))\n",
    "\n",
    "from easy_boto3 import aws_metadata\n",
    "from easy_boto3.ec2_management.ec2_single_instance_management import launch_instance, get_instance_public_ip ,stop_instance, terminate_instance\n",
    "from easy_boto3.ec2_management.startup_script_management import make_rd_startup_script, read_startup_script, inject_aws_creds\n",
    "\n",
    "%load_ext autoreload\n",
    "%autoreload 2"
   ]
  },
  {
   "cell_type": "code",
   "execution_count": 2,
   "metadata": {},
   "outputs": [],
   "source": [
    "# startup script path \n",
    "startup_script_path = current_dir + '/startup_scripts/example_startup_script.sh'\n",
    "\n",
    "# read in startup script\n",
    "startup_script = read_startup_script(startup_script_path)\n",
    "\n",
    "# inject aws creds into base script\n",
    "startup_script = inject_aws_creds(startup_script)"
   ]
  },
  {
   "cell_type": "code",
   "execution_count": 3,
   "metadata": {},
   "outputs": [
    {
     "ename": "ClientError",
     "evalue": "An error occurred (UnauthorizedOperation) when calling the RunInstances operation: You are not authorized to perform this operation. Encoded authorization failure message: wWoBSWLLuKuvaTm86RLg-oDE4mRWFCvrEinxMrOt3XZcfncCgSPnYiiYxoeRWqqFJwIldo6utf3ibI34sPQ9SjgFkNPaSRwRB4XKsZFpHV3HxtqdMNA153cd9EzELmFt97OYsbwaRVfwgGXVSj3WuvQRGCzopN237HFWcb_cUmla4KZ0_-vJiMVV5cHJRHvsrXK1sANg_3iRJcXT_CRGPmLT3hzq9FDrVW5eL_oFe4z6j_Y6XdFi94CJqbhl_Td1bIdAPv7tqyAOYCWmWqnlb0ynD-OjOh6UXqbjXIC4fLOqhZvm0DbPE70Cqv4PkadbKDPniH5rJwGcrDlQqkZ2LsDj0DTMshCC536C4kfYOnx-An3R71YHXVuO8gufY-Gndza_2_A-glicyt9hNZr1TeauFWpFCWBrMY38ndI9MQYHkmcnO_6KhqoD-6Eb9kMm2ZIHiPauBCEBZj1Ldb-UMh1_FgsR7xOd0UBTvE-ht7qkx3QkOtItZ3ocu6V5LY-BowDgAd2EbkibsDp-lAFh_ihJQuj3M61nLYHy3POatqbmDdBspCzaSiSSj-3E4-bIpDO7sIor0-8dk4UoaSogjXZvGBveodprSMdX_kjq29ssg2IGYU9p6JdyZGbaW9v4-84kYLbkMsyObBDcKNjdY_W-HuHZ4vgOMWYUpS4-Au1S5uSLWPVQuefQy63UcKOQQ3Z9Uycer47gAbP7JjTkXdwiOX-yKHnv6IrZdHD9z7nXyZEM2M6QM2RIhoMe_AgJholENJNXjts8mS_ACpdIZNED1uUl_2dRGlkecqiFPtia6PiT_0LkRy_10Cg_njQO22eGoCqy4CYeK6vl2SJNJ452is7w1VtRilg9HgyFKfEG96sNc3H5ZqB2cYHzKfsnOH7O1zCv4VdPkNeDEwYq2zbUUc4Ur-DweUoN2QIVJCTnTu6AaIsmtSr3fOF_qxZjARospsR_QY75_faR1cgWpdb7_XeNtcvLO_Z-SiZdR6-ve9wi_2OQutXK5z2Cg2FGbRf2RWpuJXeGDCbFlV621xIO9s-9TVC8vDmOEzrLY3EaRgHlcuzQ7E1mu75JtO2k0KL-NX7NGyjkz_iAwNsXw5UqvyizBw_cpH9m3a-Y2lNmUGtYl9fx3rGOwg7bgtINTZjQ1e1VO-pYY6ZHYDYYZ82SRIf-AZRzp6jONFf8h5-aHNl9xDXL92PtAmfhl2IbWYv8TcWMbbFrx2kD_vaGsJOzGwhMjReFio-FBaMPHlUtuTAmg80tltXMuvHXDCuKKTwzRebFsWoiaHyrxzLJnaoDkIgNgz3aBTCOM31GmQmNoIA9C_BLQIYiQ3EDH0OzsiM2fAhFBg9IQihk0OkKgD-kD2d-lzbi2qXqrQuGOPa_uvP5IBXuPTy_ZyYapMoZ5FzNvG5z97xifBINVUb6D2yVliS1LBhPq9iSoi9cIaFs2Ob2cSSHtQ50ojzsGl28p0sZpMrl8cMVhgHj0vui96tqv5edbw",
     "output_type": "error",
     "traceback": [
      "\u001b[0;31m---------------------------------------------------------------------------\u001b[0m",
      "\u001b[0;31mClientError\u001b[0m                               Traceback (most recent call last)",
      "Cell \u001b[0;32mIn[3], line 7\u001b[0m\n\u001b[1;32m      4\u001b[0m InstanceType \u001b[39m=\u001b[39m \u001b[39m'\u001b[39m\u001b[39mt2.micro\u001b[39m\u001b[39m'\u001b[39m\n\u001b[1;32m      5\u001b[0m ImageId \u001b[39m=\u001b[39m \u001b[39m'\u001b[39m\u001b[39mami-03f65b8614a860c29\u001b[39m\u001b[39m'\u001b[39m\n\u001b[0;32m----> 7\u001b[0m launch_instance(startup_script\u001b[39m=\u001b[39;49mstartup_script,\n\u001b[1;32m      8\u001b[0m                 region\u001b[39m=\u001b[39;49mregion,\n\u001b[1;32m      9\u001b[0m                 InstanceName\u001b[39m=\u001b[39;49mInstanceName,\n\u001b[1;32m     10\u001b[0m                 InstanceType\u001b[39m=\u001b[39;49mInstanceType,\n\u001b[1;32m     11\u001b[0m                 ImageId\u001b[39m=\u001b[39;49mImageId)\n",
      "File \u001b[0;32m~/Desktop/easy_boto3/easy_boto3/utilities/session_maker.py:14\u001b[0m, in \u001b[0;36mSessionAuthenticator.__call__.<locals>.decorator_function\u001b[0;34m(*args, **kwargs)\u001b[0m\n\u001b[1;32m     11\u001b[0m session \u001b[39m=\u001b[39m boto3\u001b[39m.\u001b[39mSession(profile_name\u001b[39m=\u001b[39m\u001b[39mself\u001b[39m\u001b[39m.\u001b[39mprofile_name,\n\u001b[1;32m     12\u001b[0m                         region_name\u001b[39m=\u001b[39m\u001b[39mself\u001b[39m\u001b[39m.\u001b[39mregion_name)\n\u001b[1;32m     13\u001b[0m kwargs[\u001b[39m'\u001b[39m\u001b[39msession\u001b[39m\u001b[39m'\u001b[39m] \u001b[39m=\u001b[39m session\n\u001b[0;32m---> 14\u001b[0m \u001b[39mreturn\u001b[39;00m func(\u001b[39m*\u001b[39;49margs, \u001b[39m*\u001b[39;49m\u001b[39m*\u001b[39;49mkwargs)\n",
      "File \u001b[0;32m~/Desktop/easy_boto3/easy_boto3/ec2_management/ec2_single_instance_management.py:26\u001b[0m, in \u001b[0;36mlaunch_instance\u001b[0;34m(startup_script, session, **kwargs)\u001b[0m\n\u001b[1;32m     23\u001b[0m ec2_controller \u001b[39m=\u001b[39m session\u001b[39m.\u001b[39mresource(\u001b[39m'\u001b[39m\u001b[39mec2\u001b[39m\u001b[39m'\u001b[39m, region_name\u001b[39m=\u001b[39mregion)\n\u001b[1;32m     25\u001b[0m \u001b[39m# create a new EC2 instance\u001b[39;00m\n\u001b[0;32m---> 26\u001b[0m instances \u001b[39m=\u001b[39m ec2_controller\u001b[39m.\u001b[39;49mcreate_instances(\n\u001b[1;32m     27\u001b[0m     ImageId\u001b[39m=\u001b[39;49mImageId,\n\u001b[1;32m     28\u001b[0m     \u001b[39m# IamInstanceProfile={'Arn': 'arn:aws:iam::829448320884:instance-profile/shiftsmart_ml'},\u001b[39;49;00m\n\u001b[1;32m     29\u001b[0m     NetworkInterfaces\u001b[39m=\u001b[39;49m[{\n\u001b[1;32m     30\u001b[0m         \u001b[39m'\u001b[39;49m\u001b[39mDeviceIndex\u001b[39;49m\u001b[39m'\u001b[39;49m: \u001b[39m0\u001b[39;49m,\n\u001b[1;32m     31\u001b[0m         \u001b[39m'\u001b[39;49m\u001b[39mGroups\u001b[39;49m\u001b[39m'\u001b[39;49m: [\u001b[39m'\u001b[39;49m\u001b[39msg-0ad8c55f58167f63d\u001b[39;49m\u001b[39m'\u001b[39;49m],\n\u001b[1;32m     32\u001b[0m         \u001b[39m'\u001b[39;49m\u001b[39mAssociatePublicIpAddress\u001b[39;49m\u001b[39m'\u001b[39;49m: \u001b[39mTrue\u001b[39;49;00m}],\n\u001b[1;32m     33\u001b[0m     UserData\u001b[39m=\u001b[39;49mstartup_script,\n\u001b[1;32m     34\u001b[0m     MinCount\u001b[39m=\u001b[39;49m\u001b[39m1\u001b[39;49m,\n\u001b[1;32m     35\u001b[0m     MaxCount\u001b[39m=\u001b[39;49m\u001b[39m1\u001b[39;49m,\n\u001b[1;32m     36\u001b[0m     TagSpecifications\u001b[39m=\u001b[39;49m[{\u001b[39m'\u001b[39;49m\u001b[39mResourceType\u001b[39;49m\u001b[39m'\u001b[39;49m: \u001b[39m'\u001b[39;49m\u001b[39minstance\u001b[39;49m\u001b[39m'\u001b[39;49m,\n\u001b[1;32m     37\u001b[0m                         \u001b[39m'\u001b[39;49m\u001b[39mTags\u001b[39;49m\u001b[39m'\u001b[39;49m: [{\u001b[39m'\u001b[39;49m\u001b[39mKey\u001b[39;49m\u001b[39m'\u001b[39;49m: \u001b[39m'\u001b[39;49m\u001b[39mName\u001b[39;49m\u001b[39m'\u001b[39;49m,\n\u001b[1;32m     38\u001b[0m                                   \u001b[39m'\u001b[39;49m\u001b[39mValue\u001b[39;49m\u001b[39m'\u001b[39;49m: InstanceName}]}],\n\u001b[1;32m     39\u001b[0m     InstanceType\u001b[39m=\u001b[39;49mInstanceType,\n\u001b[1;32m     40\u001b[0m     KeyName\u001b[39m=\u001b[39;49m\u001b[39m'\u001b[39;49m\u001b[39mshiftsmart_transcript_west_2\u001b[39;49m\u001b[39m'\u001b[39;49m,\n\u001b[1;32m     41\u001b[0m     Monitoring\u001b[39m=\u001b[39;49m{\u001b[39m'\u001b[39;49m\u001b[39mEnabled\u001b[39;49m\u001b[39m'\u001b[39;49m: \u001b[39mTrue\u001b[39;49;00m},\n\u001b[1;32m     42\u001b[0m     BlockDeviceMappings\u001b[39m=\u001b[39;49m[\n\u001b[1;32m     43\u001b[0m         {\n\u001b[1;32m     44\u001b[0m             \u001b[39m'\u001b[39;49m\u001b[39mDeviceName\u001b[39;49m\u001b[39m'\u001b[39;49m: \u001b[39m'\u001b[39;49m\u001b[39m/dev/sda1\u001b[39;49m\u001b[39m'\u001b[39;49m,\n\u001b[1;32m     45\u001b[0m             \u001b[39m'\u001b[39;49m\u001b[39mEbs\u001b[39;49m\u001b[39m'\u001b[39;49m: {\n\u001b[1;32m     46\u001b[0m                 \u001b[39m'\u001b[39;49m\u001b[39mVolumeSize\u001b[39;49m\u001b[39m'\u001b[39;49m: \u001b[39m300\u001b[39;49m,\n\u001b[1;32m     47\u001b[0m                 \u001b[39m'\u001b[39;49m\u001b[39mVolumeType\u001b[39;49m\u001b[39m'\u001b[39;49m: \u001b[39m'\u001b[39;49m\u001b[39mgp2\u001b[39;49m\u001b[39m'\u001b[39;49m\n\u001b[1;32m     48\u001b[0m             }\n\u001b[1;32m     49\u001b[0m         }\n\u001b[1;32m     50\u001b[0m     ],\n\u001b[1;32m     51\u001b[0m     \u001b[39m# enable IMDSv2\u001b[39;49;00m\n\u001b[1;32m     52\u001b[0m     MetadataOptions\u001b[39m=\u001b[39;49m{\n\u001b[1;32m     53\u001b[0m         \u001b[39m'\u001b[39;49m\u001b[39mHttpTokens\u001b[39;49m\u001b[39m'\u001b[39;49m: \u001b[39m'\u001b[39;49m\u001b[39mrequired\u001b[39;49m\u001b[39m'\u001b[39;49m,\n\u001b[1;32m     54\u001b[0m         \u001b[39m'\u001b[39;49m\u001b[39mHttpEndpoint\u001b[39;49m\u001b[39m'\u001b[39;49m: \u001b[39m'\u001b[39;49m\u001b[39menabled\u001b[39;49m\u001b[39m'\u001b[39;49m\n\u001b[1;32m     55\u001b[0m     }\n\u001b[1;32m     56\u001b[0m  )\n\u001b[1;32m     58\u001b[0m \u001b[39m# Wait for the instance to be running\u001b[39;00m\n\u001b[1;32m     59\u001b[0m instances[\u001b[39m0\u001b[39m]\u001b[39m.\u001b[39mwait_until_running()\n",
      "File \u001b[0;32m~/Desktop/easy_boto3/.venv/lib/python3.9/site-packages/boto3/resources/factory.py:580\u001b[0m, in \u001b[0;36mResourceFactory._create_action.<locals>.do_action\u001b[0;34m(self, *args, **kwargs)\u001b[0m\n\u001b[1;32m    579\u001b[0m \u001b[39mdef\u001b[39;00m \u001b[39mdo_action\u001b[39m(\u001b[39mself\u001b[39m, \u001b[39m*\u001b[39margs, \u001b[39m*\u001b[39m\u001b[39m*\u001b[39mkwargs):\n\u001b[0;32m--> 580\u001b[0m     response \u001b[39m=\u001b[39m action(\u001b[39mself\u001b[39;49m, \u001b[39m*\u001b[39;49margs, \u001b[39m*\u001b[39;49m\u001b[39m*\u001b[39;49mkwargs)\n\u001b[1;32m    582\u001b[0m     \u001b[39mif\u001b[39;00m \u001b[39mhasattr\u001b[39m(\u001b[39mself\u001b[39m, \u001b[39m'\u001b[39m\u001b[39mload\u001b[39m\u001b[39m'\u001b[39m):\n\u001b[1;32m    583\u001b[0m         \u001b[39m# Clear cached data. It will be reloaded the next\u001b[39;00m\n\u001b[1;32m    584\u001b[0m         \u001b[39m# time that an attribute is accessed.\u001b[39;00m\n\u001b[1;32m    585\u001b[0m         \u001b[39m# TODO: Make this configurable in the future?\u001b[39;00m\n\u001b[1;32m    586\u001b[0m         \u001b[39mself\u001b[39m\u001b[39m.\u001b[39mmeta\u001b[39m.\u001b[39mdata \u001b[39m=\u001b[39m \u001b[39mNone\u001b[39;00m\n",
      "File \u001b[0;32m~/Desktop/easy_boto3/.venv/lib/python3.9/site-packages/boto3/resources/action.py:88\u001b[0m, in \u001b[0;36mServiceAction.__call__\u001b[0;34m(self, parent, *args, **kwargs)\u001b[0m\n\u001b[1;32m     79\u001b[0m params\u001b[39m.\u001b[39mupdate(kwargs)\n\u001b[1;32m     81\u001b[0m logger\u001b[39m.\u001b[39mdebug(\n\u001b[1;32m     82\u001b[0m     \u001b[39m'\u001b[39m\u001b[39mCalling \u001b[39m\u001b[39m%s\u001b[39;00m\u001b[39m:\u001b[39m\u001b[39m%s\u001b[39;00m\u001b[39m with \u001b[39m\u001b[39m%r\u001b[39;00m\u001b[39m'\u001b[39m,\n\u001b[1;32m     83\u001b[0m     parent\u001b[39m.\u001b[39mmeta\u001b[39m.\u001b[39mservice_name,\n\u001b[1;32m     84\u001b[0m     operation_name,\n\u001b[1;32m     85\u001b[0m     params,\n\u001b[1;32m     86\u001b[0m )\n\u001b[0;32m---> 88\u001b[0m response \u001b[39m=\u001b[39m \u001b[39mgetattr\u001b[39;49m(parent\u001b[39m.\u001b[39;49mmeta\u001b[39m.\u001b[39;49mclient, operation_name)(\u001b[39m*\u001b[39;49margs, \u001b[39m*\u001b[39;49m\u001b[39m*\u001b[39;49mparams)\n\u001b[1;32m     90\u001b[0m logger\u001b[39m.\u001b[39mdebug(\u001b[39m'\u001b[39m\u001b[39mResponse: \u001b[39m\u001b[39m%r\u001b[39;00m\u001b[39m'\u001b[39m, response)\n\u001b[1;32m     92\u001b[0m \u001b[39mreturn\u001b[39;00m \u001b[39mself\u001b[39m\u001b[39m.\u001b[39m_response_handler(parent, params, response)\n",
      "File \u001b[0;32m~/Desktop/easy_boto3/.venv/lib/python3.9/site-packages/botocore/client.py:534\u001b[0m, in \u001b[0;36mClientCreator._create_api_method.<locals>._api_call\u001b[0;34m(self, *args, **kwargs)\u001b[0m\n\u001b[1;32m    530\u001b[0m     \u001b[39mraise\u001b[39;00m \u001b[39mTypeError\u001b[39;00m(\n\u001b[1;32m    531\u001b[0m         \u001b[39mf\u001b[39m\u001b[39m\"\u001b[39m\u001b[39m{\u001b[39;00mpy_operation_name\u001b[39m}\u001b[39;00m\u001b[39m() only accepts keyword arguments.\u001b[39m\u001b[39m\"\u001b[39m\n\u001b[1;32m    532\u001b[0m     )\n\u001b[1;32m    533\u001b[0m \u001b[39m# The \"self\" in this scope is referring to the BaseClient.\u001b[39;00m\n\u001b[0;32m--> 534\u001b[0m \u001b[39mreturn\u001b[39;00m \u001b[39mself\u001b[39;49m\u001b[39m.\u001b[39;49m_make_api_call(operation_name, kwargs)\n",
      "File \u001b[0;32m~/Desktop/easy_boto3/.venv/lib/python3.9/site-packages/botocore/client.py:976\u001b[0m, in \u001b[0;36mBaseClient._make_api_call\u001b[0;34m(self, operation_name, api_params)\u001b[0m\n\u001b[1;32m    974\u001b[0m     error_code \u001b[39m=\u001b[39m parsed_response\u001b[39m.\u001b[39mget(\u001b[39m\"\u001b[39m\u001b[39mError\u001b[39m\u001b[39m\"\u001b[39m, {})\u001b[39m.\u001b[39mget(\u001b[39m\"\u001b[39m\u001b[39mCode\u001b[39m\u001b[39m\"\u001b[39m)\n\u001b[1;32m    975\u001b[0m     error_class \u001b[39m=\u001b[39m \u001b[39mself\u001b[39m\u001b[39m.\u001b[39mexceptions\u001b[39m.\u001b[39mfrom_code(error_code)\n\u001b[0;32m--> 976\u001b[0m     \u001b[39mraise\u001b[39;00m error_class(parsed_response, operation_name)\n\u001b[1;32m    977\u001b[0m \u001b[39melse\u001b[39;00m:\n\u001b[1;32m    978\u001b[0m     \u001b[39mreturn\u001b[39;00m parsed_response\n",
      "\u001b[0;31mClientError\u001b[0m: An error occurred (UnauthorizedOperation) when calling the RunInstances operation: You are not authorized to perform this operation. Encoded authorization failure message: wWoBSWLLuKuvaTm86RLg-oDE4mRWFCvrEinxMrOt3XZcfncCgSPnYiiYxoeRWqqFJwIldo6utf3ibI34sPQ9SjgFkNPaSRwRB4XKsZFpHV3HxtqdMNA153cd9EzELmFt97OYsbwaRVfwgGXVSj3WuvQRGCzopN237HFWcb_cUmla4KZ0_-vJiMVV5cHJRHvsrXK1sANg_3iRJcXT_CRGPmLT3hzq9FDrVW5eL_oFe4z6j_Y6XdFi94CJqbhl_Td1bIdAPv7tqyAOYCWmWqnlb0ynD-OjOh6UXqbjXIC4fLOqhZvm0DbPE70Cqv4PkadbKDPniH5rJwGcrDlQqkZ2LsDj0DTMshCC536C4kfYOnx-An3R71YHXVuO8gufY-Gndza_2_A-glicyt9hNZr1TeauFWpFCWBrMY38ndI9MQYHkmcnO_6KhqoD-6Eb9kMm2ZIHiPauBCEBZj1Ldb-UMh1_FgsR7xOd0UBTvE-ht7qkx3QkOtItZ3ocu6V5LY-BowDgAd2EbkibsDp-lAFh_ihJQuj3M61nLYHy3POatqbmDdBspCzaSiSSj-3E4-bIpDO7sIor0-8dk4UoaSogjXZvGBveodprSMdX_kjq29ssg2IGYU9p6JdyZGbaW9v4-84kYLbkMsyObBDcKNjdY_W-HuHZ4vgOMWYUpS4-Au1S5uSLWPVQuefQy63UcKOQQ3Z9Uycer47gAbP7JjTkXdwiOX-yKHnv6IrZdHD9z7nXyZEM2M6QM2RIhoMe_AgJholENJNXjts8mS_ACpdIZNED1uUl_2dRGlkecqiFPtia6PiT_0LkRy_10Cg_njQO22eGoCqy4CYeK6vl2SJNJ452is7w1VtRilg9HgyFKfEG96sNc3H5ZqB2cYHzKfsnOH7O1zCv4VdPkNeDEwYq2zbUUc4Ur-DweUoN2QIVJCTnTu6AaIsmtSr3fOF_qxZjARospsR_QY75_faR1cgWpdb7_XeNtcvLO_Z-SiZdR6-ve9wi_2OQutXK5z2Cg2FGbRf2RWpuJXeGDCbFlV621xIO9s-9TVC8vDmOEzrLY3EaRgHlcuzQ7E1mu75JtO2k0KL-NX7NGyjkz_iAwNsXw5UqvyizBw_cpH9m3a-Y2lNmUGtYl9fx3rGOwg7bgtINTZjQ1e1VO-pYY6ZHYDYYZ82SRIf-AZRzp6jONFf8h5-aHNl9xDXL92PtAmfhl2IbWYv8TcWMbbFrx2kD_vaGsJOzGwhMjReFio-FBaMPHlUtuTAmg80tltXMuvHXDCuKKTwzRebFsWoiaHyrxzLJnaoDkIgNgz3aBTCOM31GmQmNoIA9C_BLQIYiQ3EDH0OzsiM2fAhFBg9IQihk0OkKgD-kD2d-lzbi2qXqrQuGOPa_uvP5IBXuPTy_ZyYapMoZ5FzNvG5z97xifBINVUb6D2yVliS1LBhPq9iSoi9cIaFs2Ob2cSSHtQ50ojzsGl28p0sZpMrl8cMVhgHj0vui96tqv5edbw"
     ]
    }
   ],
   "source": [
    "# optinally set config options\n",
    "region = 'us-west-2'\n",
    "InstanceName = 'example_worker'\n",
    "InstanceType = 't2.micro'\n",
    "ImageId = 'ami-03f65b8614a860c29'\n",
    "    \n",
    "launch_instance(startup_script=startup_script,\n",
    "                region=region,\n",
    "                InstanceName=InstanceName,\n",
    "                InstanceType=InstanceType,\n",
    "                ImageId=ImageId)"
   ]
  },
  {
   "cell_type": "code",
   "execution_count": null,
   "metadata": {},
   "outputs": [],
   "source": []
  }
 ],
 "metadata": {
  "kernelspec": {
   "display_name": ".venv",
   "language": "python",
   "name": "python3"
  },
  "language_info": {
   "codemirror_mode": {
    "name": "ipython",
    "version": 3
   },
   "file_extension": ".py",
   "mimetype": "text/x-python",
   "name": "python",
   "nbconvert_exporter": "python",
   "pygments_lexer": "ipython3",
   "version": "3.9.1"
  },
  "orig_nbformat": 4
 },
 "nbformat": 4,
 "nbformat_minor": 2
}
