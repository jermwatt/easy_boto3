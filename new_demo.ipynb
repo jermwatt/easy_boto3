{
 "cells": [
  {
   "cell_type": "code",
   "execution_count": 1,
   "metadata": {},
   "outputs": [],
   "source": [
    "# add this notebook's directory to path\n",
    "import sys, os\n",
    "current_dir = os.getcwd()\n",
    "parent_dir = os.path.abspath(os.path.join(os.getcwd(), os.pardir))\n",
    "\n",
    "%load_ext autoreload\n",
    "%autoreload 2"
   ]
  },
  {
   "cell_type": "code",
   "execution_count": 2,
   "metadata": {},
   "outputs": [],
   "source": [
    "import yaml\n",
    "import configparser\n",
    "\n",
    "def get_easy_boto3_data(easy_boto3_config_path: str) -> dict:\n",
    "    # load in easy_boto3_config\n",
    "    with open(easy_boto3_config_path, \"r\") as yaml_file:\n",
    "        easy_boto3_config = yaml.safe_load(yaml_file)\n",
    "\n",
    "    # unpack aws easy_boto3_config\n",
    "    aws_config_directory = easy_boto3_config[\"aws_data\"][\"aws_config_directory\"]\n",
    "    aws_profile_name = easy_boto3_config[\"aws_data\"][\"profile_name\"]\n",
    "\n",
    "    # unpack ssh easy_boto3_config\n",
    "    ssh_directory = easy_boto3_config[\"ssh_data\"][\"ssh_directory\"]\n",
    "    ssh_key = easy_boto3_config[\"ssh_data\"][\"ssh_key\"]\n",
    "    \n",
    "    # create dictionary\n",
    "    easy_boto3_data = {\n",
    "        \"aws_config_directory\": aws_config_directory,\n",
    "        \"aws_profile_name\": aws_profile_name,\n",
    "        \"ssh_directory\": ssh_directory,\n",
    "        \"ssh_key\": ssh_key\n",
    "    }\n",
    "    \n",
    "    return easy_boto3_data\n",
    "\n",
    "def get_aws_config_data(aws_config_path: str,\n",
    "                        selected_profile_name: str) -> dict:\n",
    "    # read in aws config\n",
    "    aws_config = configparser.ConfigParser()\n",
    "    aws_config.read(aws_config_path);\n",
    "    profile_names = aws_config.sections()\n",
    "\n",
    "    # select data associated with selected profile\n",
    "    aws_profile_region = aws_config[selected_profile_name]['region']\n",
    "    aws_profile_output = aws_config[selected_profile_name]['output']\n",
    "    \n",
    "    return {'aws_profile_region': aws_profile_region, 'aws_profile_output': aws_profile_output}\n",
    "\n",
    "\n",
    "def get_aws_creds_data( aws_creds_path: str,\n",
    "                       selected_profile_name: str) -> dict:\n",
    "    # read in credentials config\n",
    "    aws_creds = configparser.ConfigParser()\n",
    "    aws_creds.read(aws_creds_path);\n",
    " \n",
    "    # select data associated with selected profile\n",
    "    aws_access_key_id = aws_creds[selected_profile_name]['aws_access_key_id']\n",
    "    aws_secret_access_key = aws_creds[selected_profile_name]['aws_secret_access_key']\n",
    "    \n",
    "    return {'aws_access_key_id': aws_access_key_id, 'aws_secret_access_key': aws_secret_access_key}\n",
    "\n",
    "\n",
    "def get_aws_login_data(aws_config_directory: str,\n",
    "                       selected_profile_name: str) -> dict:\n",
    "    # load in config from aws config directory\n",
    "    aws_config_path = aws_config_directory + '/config'\n",
    "    aws_creds_path = aws_config_directory + '/credentials'\n",
    "\n",
    "    # get config data\n",
    "    aws_config_data = get_aws_config_data(aws_config_path, selected_profile_name)\n",
    "\n",
    "    # get creds data\n",
    "    aws_creds_data = get_aws_creds_data(aws_creds_path, selected_profile_name)\n",
    "\n",
    "    # merge \n",
    "    all_aws_data={}\n",
    "    all_aws_data['profile_name'] = selected_profile_name\n",
    "    all_aws_data.update(aws_config_data)\n",
    "    all_aws_data.update(aws_creds_data)\n",
    "    return all_aws_data"
   ]
  },
  {
   "cell_type": "code",
   "execution_count": 3,
   "metadata": {},
   "outputs": [],
   "source": [
    "# path to easy_boto3_config\n",
    "easy_boto3_config_path = current_dir + '/.easy_boto3.yaml'\n",
    "easy_boto3_data = get_easy_boto3_data(easy_boto3_config_path)\n",
    "\n",
    "# get aws login data\n",
    "aws_config_directory = '/Users/wattjer/.aws'\n",
    "selected_profile_name = 'shiftsmart_ml'\n",
    "all_aws_data = get_aws_login_data(aws_config_directory, selected_profile_name)"
   ]
  },
  {
   "cell_type": "code",
   "execution_count": 4,
   "metadata": {},
   "outputs": [],
   "source": [
    "easy_boto3_data;"
   ]
  },
  {
   "cell_type": "code",
   "execution_count": 5,
   "metadata": {},
   "outputs": [],
   "source": [
    "all_aws_data;"
   ]
  },
  {
   "cell_type": "code",
   "execution_count": null,
   "metadata": {},
   "outputs": [],
   "source": []
  }
 ],
 "metadata": {
  "kernelspec": {
   "display_name": ".venv",
   "language": "python",
   "name": "python3"
  },
  "language_info": {
   "codemirror_mode": {
    "name": "ipython",
    "version": 3
   },
   "file_extension": ".py",
   "mimetype": "text/x-python",
   "name": "python",
   "nbconvert_exporter": "python",
   "pygments_lexer": "ipython3",
   "version": "3.9.1"
  },
  "orig_nbformat": 4
 },
 "nbformat": 4,
 "nbformat_minor": 2
}
