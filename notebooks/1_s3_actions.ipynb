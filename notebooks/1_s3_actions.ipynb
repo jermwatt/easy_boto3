{
 "cells": [
  {
   "cell_type": "code",
   "execution_count": 1,
   "metadata": {},
   "outputs": [],
   "source": [
    "import boto3 \n",
    "\n",
    "%load_ext autoreload\n",
    "%autoreload 2"
   ]
  },
  {
   "attachments": {},
   "cell_type": "markdown",
   "metadata": {},
   "source": [
    "# 1.  s3 actions"
   ]
  },
  {
   "attachments": {},
   "cell_type": "markdown",
   "metadata": {},
   "source": [
    "## 1.1  read s3 objects from shiftsmart-dev bucket"
   ]
  },
  {
   "cell_type": "code",
   "execution_count": 15,
   "metadata": {},
   "outputs": [
    {
     "name": "stdout",
     "output_type": "stream",
     "text": [
      "full_path: s3://shiftsmart-dev/1691ae89-d97f-409f-a54c-0b3702a3dca5/profilevideos/6c8724ca-4c6a-46d9-b5fe-e3dc32b4ccf6/question-0-1680749798106-1680749798\n"
     ]
    }
   ],
   "source": [
    "# Create an S3 client\n",
    "session = boto3.Session(profile_name='shiftsmart_ml').client('s3')\n",
    "\n",
    "# Specify the bucket name\n",
    "bucket_name = 'shiftsmart-dev'\n",
    "\n",
    "# List objects in the bucket\n",
    "response = session.list_objects_v2(Bucket=bucket_name)\n",
    "\n",
    "\n",
    "# Iterate over the objects, create full path, and print\n",
    "full_path = ''\n",
    "object_key = ''\n",
    "if 'Contents' in response:\n",
    "    for obj in response['Contents']:\n",
    "        # get key\n",
    "        object_key = obj['Key']\n",
    "        \n",
    "        # create full path to object\n",
    "        full_path = 's3://' + bucket_name + object_key\n",
    "        \n",
    "        print('full_path:', full_path)\n",
    "        break\n",
    "else:\n",
    "    print('No objects found in the bucket.')"
   ]
  },
  {
   "cell_type": "code",
   "execution_count": 16,
   "metadata": {},
   "outputs": [],
   "source": [
    "# download object\n",
    "session.download_file(bucket_name, object_key, 'example.mp4')"
   ]
  },
  {
   "attachments": {},
   "cell_type": "markdown",
   "metadata": {},
   "source": [
    "## 1.2  Write test document to s3 bucket"
   ]
  },
  {
   "cell_type": "code",
   "execution_count": 23,
   "metadata": {},
   "outputs": [],
   "source": [
    "# Create an S3 client\n",
    "session = boto3.Session(profile_name='shiftsmart_ml').client('s3')\n",
    "\n",
    "# Specify the bucket name\n",
    "bucket_name = 'shiftsmart-transcripts'\n",
    "file_path = 'test.txt'\n",
    "\n",
    "# Upload the file to the S3 bucket\n",
    "session.upload_file(file_path, bucket_name, file_path)"
   ]
  },
  {
   "attachments": {},
   "cell_type": "markdown",
   "metadata": {},
   "source": [
    "## 1.3  Delete test document"
   ]
  },
  {
   "cell_type": "code",
   "execution_count": 24,
   "metadata": {},
   "outputs": [
    {
     "data": {
      "text/plain": [
       "{'ResponseMetadata': {'RequestId': 'THREBTAFGA7B6AS5',\n",
       "  'HostId': 'WyZptFGir/ThxvTzlnDNDSueL7JGTM5iqCmLc1fO/i7qJk7aUPkcLzTgrdwpCXyydYgZhZnYOjI=',\n",
       "  'HTTPStatusCode': 204,\n",
       "  'HTTPHeaders': {'x-amz-id-2': 'WyZptFGir/ThxvTzlnDNDSueL7JGTM5iqCmLc1fO/i7qJk7aUPkcLzTgrdwpCXyydYgZhZnYOjI=',\n",
       "   'x-amz-request-id': 'THREBTAFGA7B6AS5',\n",
       "   'date': 'Tue, 30 May 2023 19:18:28 GMT',\n",
       "   'x-amz-version-id': 'JWek9Tyre8f9DsZmap_0zkt6RG4PJd7_',\n",
       "   'x-amz-delete-marker': 'true',\n",
       "   'server': 'AmazonS3'},\n",
       "  'RetryAttempts': 1},\n",
       " 'DeleteMarker': True,\n",
       " 'VersionId': 'JWek9Tyre8f9DsZmap_0zkt6RG4PJd7_'}"
      ]
     },
     "execution_count": 24,
     "metadata": {},
     "output_type": "execute_result"
    }
   ],
   "source": [
    "# Create an S3 client\n",
    "session = boto3.Session(profile_name='shiftsmart_ml').client('s3')\n",
    "\n",
    "# Specify the bucket name\n",
    "bucket_name = 'shiftsmart-transcripts'\n",
    "file_path = 'test.txt'\n",
    "\n",
    "# Delete the file from the S3 bucket\n",
    "session.delete_object(Bucket=bucket_name, Key=file_path)"
   ]
  }
 ],
 "metadata": {
  "kernelspec": {
   "display_name": ".venv",
   "language": "python",
   "name": "python3"
  },
  "language_info": {
   "codemirror_mode": {
    "name": "ipython",
    "version": 3
   },
   "file_extension": ".py",
   "mimetype": "text/x-python",
   "name": "python",
   "nbconvert_exporter": "python",
   "pygments_lexer": "ipython3",
   "version": "3.9.1"
  },
  "orig_nbformat": 4
 },
 "nbformat": 4,
 "nbformat_minor": 2
}
