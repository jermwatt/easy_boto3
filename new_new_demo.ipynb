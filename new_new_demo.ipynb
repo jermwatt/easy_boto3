{
 "cells": [
  {
   "cell_type": "code",
   "execution_count": 1,
   "metadata": {},
   "outputs": [],
   "source": [
    "# add this notebook's directory to path\n",
    "import sys, os\n",
    "current_dir = os.getcwd()\n",
    "parent_dir = os.path.abspath(os.path.join(os.getcwd(), os.pardir))\n",
    "\n",
    "# add this notebook's directory to path\n",
    "import sys, os\n",
    "sys.path.append(os.getcwd())\n",
    "\n",
    "# path to parent directory \n",
    "parent_dir = os.path.abspath(os.path.join(os.getcwd(), os.pardir))\n",
    "\n",
    "from easy_boto3.set_profile import validate, check, set \n",
    "\n",
    "%load_ext autoreload\n",
    "%autoreload 2"
   ]
  },
  {
   "cell_type": "code",
   "execution_count": 2,
   "metadata": {},
   "outputs": [],
   "source": [
    "validate()"
   ]
  },
  {
   "cell_type": "code",
   "execution_count": 3,
   "metadata": {},
   "outputs": [
    {
     "data": {
      "text/plain": [
       "{'region': 'us-west-2', 'output': 'json'}"
      ]
     },
     "execution_count": 3,
     "metadata": {},
     "output_type": "execute_result"
    }
   ],
   "source": [
    "check()"
   ]
  },
  {
   "cell_type": "code",
   "execution_count": 4,
   "metadata": {},
   "outputs": [
    {
     "ename": "TypeError",
     "evalue": "'str' object does not support item assignment",
     "output_type": "error",
     "traceback": [
      "\u001b[0;31m---------------------------------------------------------------------------\u001b[0m",
      "\u001b[0;31mTypeError\u001b[0m                                 Traceback (most recent call last)",
      "Cell \u001b[0;32mIn[4], line 1\u001b[0m\n\u001b[0;32m----> 1\u001b[0m \u001b[39mset\u001b[39;49m(\u001b[39m'\u001b[39;49m\u001b[39mshiftsmart_ml\u001b[39;49m\u001b[39m'\u001b[39;49m)\n",
      "File \u001b[0;32m~/Desktop/easy_boto3/easy_boto3/set_profile.py:41\u001b[0m, in \u001b[0;36mset\u001b[0;34m(profile_name)\u001b[0m\n\u001b[1;32m     38\u001b[0m     internal_config \u001b[39m=\u001b[39m yaml\u001b[39m.\u001b[39mload(f, Loader\u001b[39m=\u001b[39myaml\u001b[39m.\u001b[39mFullLoader)\n\u001b[1;32m     40\u001b[0m \u001b[39m# set profile name\u001b[39;00m\n\u001b[0;32m---> 41\u001b[0m internal_config[\u001b[39m'\u001b[39;49m\u001b[39mprofile_name\u001b[39;49m\u001b[39m'\u001b[39;49m] \u001b[39m=\u001b[39m profile_name\n\u001b[1;32m     43\u001b[0m \u001b[39m# write to easy_boto3 internal config file\u001b[39;00m\n\u001b[1;32m     44\u001b[0m \u001b[39mwith\u001b[39;00m \u001b[39mopen\u001b[39m(internal_config_path, \u001b[39m'\u001b[39m\u001b[39mw\u001b[39m\u001b[39m'\u001b[39m) \u001b[39mas\u001b[39;00m f:\n",
      "\u001b[0;31mTypeError\u001b[0m: 'str' object does not support item assignment"
     ]
    }
   ],
   "source": [
    "set('shiftsmart_ml')"
   ]
  },
  {
   "cell_type": "code",
   "execution_count": null,
   "metadata": {},
   "outputs": [],
   "source": [
    "\n",
    "from easy_boto3.ec2_instance_management import launch_instance, get_instance_public_ip ,stop_instance, terminate_instance, list_all_instances, list_stopped_instances, list_running_instances, terminate_all_stopped_instances\n",
    "from easy_boto3.startup_script_management import make_rd_startup_script, read_startup_script, inject_aws_creds\n",
    "from easy_boto3.cloudwatch_alarm_management import setup_cpu_alarm, list_all_alarms, delete_alarm, delete_all_alarms"
   ]
  },
  {
   "cell_type": "code",
   "execution_count": null,
   "metadata": {},
   "outputs": [],
   "source": []
  }
 ],
 "metadata": {
  "kernelspec": {
   "display_name": ".venv",
   "language": "python",
   "name": "python3"
  },
  "language_info": {
   "codemirror_mode": {
    "name": "ipython",
    "version": 3
   },
   "file_extension": ".py",
   "mimetype": "text/x-python",
   "name": "python",
   "nbconvert_exporter": "python",
   "pygments_lexer": "ipython3",
   "version": "3.9.1"
  },
  "orig_nbformat": 4
 },
 "nbformat": 4,
 "nbformat_minor": 2
}
