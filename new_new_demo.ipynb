{
 "cells": [
  {
   "cell_type": "code",
   "execution_count": 1,
   "metadata": {},
   "outputs": [],
   "source": [
    "# add this notebook's directory to path\n",
    "import sys, os\n",
    "current_dir = os.getcwd()\n",
    "parent_dir = os.path.abspath(os.path.join(os.getcwd(), os.pardir))\n",
    "\n",
    "# add this notebook's directory to path\n",
    "import sys, os\n",
    "sys.path.append(os.getcwd())\n",
    "\n",
    "# path to parent directory \n",
    "parent_dir = os.path.abspath(os.path.join(os.getcwd(), os.pardir))\n",
    "\n",
    "from easy_boto3 import set_profile\n",
    "\n",
    "%load_ext autoreload\n",
    "%autoreload 2"
   ]
  },
  {
   "cell_type": "code",
   "execution_count": 2,
   "metadata": {},
   "outputs": [],
   "source": [
    "from easy_boto3 import set_profile\n",
    "\n",
    "# validate current profile\n",
    "set_profile.validate() # -> returns None if profile valid\n",
    "\n",
    "# check which profile is currently being used - automatically validates\n",
    "set_profile.check()  # -> 'default'\n",
    "\n",
    "# set new profile - automatically validates new profile\n",
    "set_profile.validate('default') # -> returns None if profile is valid"
   ]
  },
  {
   "cell_type": "code",
   "execution_count": null,
   "metadata": {},
   "outputs": [],
   "source": [
    "from easy_boto3.ec2_instance_management import launch_instance, get_instance_public_ip ,stop_instance, terminate_instance, list_all_instances, list_stopped_instances, list_running_instances, terminate_all_stopped_instances\n",
    "from easy_boto3.startup_script_management import make_rd_startup_script, read_startup_script, inject_aws_creds\n",
    "from easy_boto3.cloudwatch_alarm_management import setup_cpu_alarm, list_all_alarms, delete_alarm, delete_all_alarms"
   ]
  },
  {
   "cell_type": "code",
   "execution_count": 6,
   "metadata": {},
   "outputs": [
    {
     "name": "stdout",
     "output_type": "stream",
     "text": [
      "Instance created: i-0bf2a4ea0315a97f1\n",
      "SUCCESS: launch_instance succeeded\n"
     ]
    }
   ],
   "source": [
    "from easy_boto3 import set_profile\n",
    "set_profile.set('profile_name') \n",
    "\n",
    "from easy_boto3.ec2_instance_management import launch_instance\n",
    "\n",
    "# ssh key_name \n",
    "key_name = 'your_key_name'\n",
    "\n",
    "# define basic parameters of ec2 instance - including instance type and ami\n",
    "region = 'us-west-2'\n",
    "instance_name = 'example_worker'\n",
    "instance_type = 't2.micro'\n",
    "image_id = 'ami-03f65b8614a860c29'\n",
    "security_group_ids = ['sg-0ad8c55f58167f63d']\n",
    "block_device_mappings = [\n",
    "    {\n",
    "        'DeviceName': '/dev/sda1',\n",
    "        'Ebs': {\n",
    "            'VolumeSize': 300,\n",
    "            'VolumeType': 'gp2'\n",
    "        }\n",
    "    }\n",
    "]\n",
    "    \n",
    "# launch instance\n",
    "launch_response = launch_instance(key_name=key_name,\n",
    "                                  region=region,\n",
    "                                  instance_name=instance_name,\n",
    "                                  instance_type=instance_type,\n",
    "                                  image_id=image_id,\n",
    "                                  security_group_ids=security_group_ids,\n",
    "                                  block_device_mappings=block_device_mappings)"
   ]
  },
  {
   "cell_type": "code",
   "execution_count": 4,
   "metadata": {},
   "outputs": [
    {
     "data": {
      "text/plain": [
       "{'region': 'us-west-2', 'output': 'json'}"
      ]
     },
     "execution_count": 4,
     "metadata": {},
     "output_type": "execute_result"
    }
   ],
   "source": [
    "set_profile.check()"
   ]
  }
 ],
 "metadata": {
  "kernelspec": {
   "display_name": ".venv",
   "language": "python",
   "name": "python3"
  },
  "language_info": {
   "codemirror_mode": {
    "name": "ipython",
    "version": 3
   },
   "file_extension": ".py",
   "mimetype": "text/x-python",
   "name": "python",
   "nbconvert_exporter": "python",
   "pygments_lexer": "ipython3",
   "version": "3.9.1"
  },
  "orig_nbformat": 4
 },
 "nbformat": 4,
 "nbformat_minor": 2
}
