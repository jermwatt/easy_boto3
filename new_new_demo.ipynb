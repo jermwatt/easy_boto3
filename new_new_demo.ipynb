{
 "cells": [
  {
   "cell_type": "code",
   "execution_count": 1,
   "metadata": {},
   "outputs": [],
   "source": [
    "# add this notebook's directory to path\n",
    "import sys, os\n",
    "current_dir = os.getcwd()\n",
    "parent_dir = os.path.abspath(os.path.join(os.getcwd(), os.pardir))\n",
    "\n",
    "# add this notebook's directory to path\n",
    "import sys, os\n",
    "sys.path.append(os.getcwd())\n",
    "\n",
    "# path to parent directory \n",
    "parent_dir = os.path.abspath(os.path.join(os.getcwd(), os.pardir))\n",
    "\n",
    "from easy_boto3.profile import profile\n",
    "\n",
    "%load_ext autoreload\n",
    "%autoreload 2"
   ]
  },
  {
   "cell_type": "code",
   "execution_count": 10,
   "metadata": {},
   "outputs": [
    {
     "name": "stdout",
     "output_type": "stream",
     "text": [
      "Instance created: i-0c343d93cb1e02553\n",
      "SUCCESS: launch_instance succeeded\n"
     ]
    },
    {
     "ename": "TypeError",
     "evalue": "'ec2.Instance' object is not subscriptable",
     "output_type": "error",
     "traceback": [
      "\u001b[0;31m---------------------------------------------------------------------------\u001b[0m",
      "\u001b[0;31mTypeError\u001b[0m                                 Traceback (most recent call last)",
      "Cell \u001b[0;32mIn[10], line 41\u001b[0m\n\u001b[1;32m     32\u001b[0m instance \u001b[39m=\u001b[39m launch_instance(KeyName\u001b[39m=\u001b[39mKeyName,\n\u001b[1;32m     33\u001b[0m                            InstanceName\u001b[39m=\u001b[39mInstanceName,\n\u001b[1;32m     34\u001b[0m                            InstanceType\u001b[39m=\u001b[39mInstanceType,\n\u001b[0;32m   (...)\u001b[0m\n\u001b[1;32m     37\u001b[0m                            BlockDeviceMappings\u001b[39m=\u001b[39mBlockDeviceMappings,\n\u001b[1;32m     38\u001b[0m                            UserData\u001b[39m=\u001b[39mUserData)\n\u001b[1;32m     40\u001b[0m \u001b[39m# wait for the instance to enter running state\u001b[39;00m\n\u001b[0;32m---> 41\u001b[0m instance[\u001b[39m0\u001b[39;49m]\u001b[39m.\u001b[39mwait_until_running()\n\u001b[1;32m     43\u001b[0m \u001b[39m# get instance id\u001b[39;00m\n\u001b[1;32m     44\u001b[0m instance_id \u001b[39m=\u001b[39m instance[\u001b[39m0\u001b[39m]\u001b[39m.\u001b[39mid\n",
      "\u001b[0;31mTypeError\u001b[0m: 'ec2.Instance' object is not subscriptable"
     ]
    }
   ],
   "source": [
    "# set aws profile - 'default' by default\n",
    "from easy_boto3.profile import profile\n",
    "profile.set('shiftsmart_ml') # -> returns None if profile is valid\n",
    "\n",
    "from easy_boto3.utilities.script_manager import read_startup_script\n",
    "\n",
    "# read in startup script from file\n",
    "UserData = read_startup_script('./startup_scripts/base_startup.sh')\n",
    "\n",
    "# build ec2 launch instance command\n",
    "from easy_boto3.ec2.ec2_instance_management import launch_instance\n",
    "\n",
    "# ssh key_name for instance creation - note you only need the name here (not the path)\n",
    "KeyName = 'shiftsmart_transcript_west_2'\n",
    "\n",
    "# define basic parameters of ec2 instance - including instance type and ami\n",
    "InstanceName = 'example_worker'\n",
    "InstanceType = 't2.micro'\n",
    "ImageId = 'ami-03f65b8614a860c29'\n",
    "Groups = ['sg-0ad8c55f58167f63d']\n",
    "BlockDeviceMappings = [\n",
    "    {\n",
    "        'DeviceName': '/dev/sda1',\n",
    "        'Ebs': {\n",
    "            'VolumeSize': 300,\n",
    "            'VolumeType': 'gp2'\n",
    "        }\n",
    "    }\n",
    "]\n",
    "\n",
    "# launch instance\n",
    "launch_result = launch_instance(KeyName=KeyName,\n",
    "                                InstanceName=InstanceName,\n",
    "                                InstanceType=InstanceType,\n",
    "                                ImageId=ImageId,\n",
    "                                Groups=Groups,\n",
    "                                BlockDeviceMappings=BlockDeviceMappings,\n",
    "                                UserData=UserData)\n",
    "\n",
    "# wait for the instance to enter running state\n",
    "launch_result.wait_until_running()\n",
    "\n",
    "# get instance id\n",
    "instance_id = launch_result[0].id"
   ]
  }
 ],
 "metadata": {
  "kernelspec": {
   "display_name": ".venv",
   "language": "python",
   "name": "python3"
  },
  "language_info": {
   "codemirror_mode": {
    "name": "ipython",
    "version": 3
   },
   "file_extension": ".py",
   "mimetype": "text/x-python",
   "name": "python",
   "nbconvert_exporter": "python",
   "pygments_lexer": "ipython3",
   "version": "3.9.1"
  },
  "orig_nbformat": 4
 },
 "nbformat": 4,
 "nbformat_minor": 2
}
