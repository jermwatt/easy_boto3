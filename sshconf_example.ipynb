{
 "cells": [
  {
   "cell_type": "code",
   "execution_count": 38,
   "metadata": {},
   "outputs": [],
   "source": [
    "from sshconf import read_ssh_config\n",
    "from os.path import expanduser\n",
    "\n",
    "\n",
    "def create_config_object():\n",
    "    config = read_ssh_config(expanduser(\"~/.easy_boto3/ssh/config\"))\n",
    "    return config\n",
    "\n",
    "def read_raw_config():\n",
    "    # read current list of hosts from ssh config\n",
    "    config = create_config_object()\n",
    "    print(config.config())\n",
    "\n",
    "def read_hosts():\n",
    "    # read current list of hosts from ssh config\n",
    "    config = create_config_object()\n",
    "    return config.hosts()\n",
    "\n",
    "def add_host(host, host_info):\n",
    "    # add host to ssh config\n",
    "    config = create_config_object()\n",
    "    config.add(host, **host_info)\n",
    "    config.save()\n",
    "\n",
    "def delete_host(host):\n",
    "    # delete host from ssh config\n",
    "    config = create_config_object()\n",
    "    config.remove(host)\n",
    "    config.save()"
   ]
  },
  {
   "cell_type": "code",
   "execution_count": 35,
   "metadata": {},
   "outputs": [],
   "source": [
    "host = \"test_server_2\"\n",
    "host_info = {\n",
    "    \"HostName\": \"public_ip_goes_here\",\n",
    "    \"User\": \"ubuntu\",\n",
    "    \"IdentityFile\": \"~/.ssh/id_rsa\",\n",
    "    \"ForwardAgent\": \"yes\"\n",
    "}\n",
    "add_host(host, host_info)"
   ]
  },
  {
   "cell_type": "code",
   "execution_count": 39,
   "metadata": {},
   "outputs": [],
   "source": [
    "delete_host('test_server')"
   ]
  },
  {
   "cell_type": "code",
   "execution_count": 40,
   "metadata": {},
   "outputs": [
    {
     "name": "stdout",
     "output_type": "stream",
     "text": [
      "\n",
      "\n",
      "Host test_server_2\n",
      "  HostName public_ip_goes_here\n",
      "  User ubuntu\n",
      "  IdentityFile ~/.ssh/id_rsa\n",
      "  ForwardAgent yes\n"
     ]
    },
    {
     "data": {
      "text/plain": [
       "'\\n\\nHost test_server_2\\n  HostName public_ip_goes_here\\n  User ubuntu\\n  IdentityFile ~/.ssh/id_rsa\\n  ForwardAgent yes'"
      ]
     },
     "execution_count": 40,
     "metadata": {},
     "output_type": "execute_result"
    }
   ],
   "source": [
    "read_raw_config()"
   ]
  },
  {
   "cell_type": "code",
   "execution_count": 32,
   "metadata": {},
   "outputs": [],
   "source": []
  },
  {
   "cell_type": "code",
   "execution_count": 33,
   "metadata": {},
   "outputs": [
    {
     "name": "stdout",
     "output_type": "stream",
     "text": [
      "\n",
      "Host test_server\n",
      "  HostName public_ip_goes_here\n",
      "  User ubuntu\n",
      "  IdentityFile ~/.ssh/id_rsa\n",
      "  ForwardAgent yes\n"
     ]
    }
   ],
   "source": [
    "print(config_text)"
   ]
  },
  {
   "cell_type": "code",
   "execution_count": 27,
   "metadata": {},
   "outputs": [
    {
     "name": "stdout",
     "output_type": "stream",
     "text": [
      "\n",
      "Host test_server\n",
      "  HostName public_ip_goes_here\n",
      "  User ubuntu\n",
      "  IdentityFile ~/.ssh/id_rsa\n",
      "  ForwardAgent yes\n"
     ]
    }
   ],
   "source": []
  },
  {
   "cell_type": "code",
   "execution_count": null,
   "metadata": {},
   "outputs": [],
   "source": []
  },
  {
   "cell_type": "code",
   "execution_count": null,
   "metadata": {},
   "outputs": [],
   "source": [
    "\n",
    "# assuming you have a host \"svu\"\n",
    "print(\"svu host\", c.host(\"svu\"))  # print the settings\n",
    "c.set(\"svu\", Hostname=\"ssh.svu.local\", Port=1234)\n",
    "print(\"svu host now\", c.host(\"svu\"))\n",
    "c.unset(\"svu\", \"port\")\n",
    "print(\"svu host now\", c.host(\"svu\"))\n",
    "\n",
    "c.add(\"newsvu\", Hostname=\"ssh-new.svu.local\", Port=22, User=\"stud1234\")\n",
    "print(\"newsvu\", c.host(\"newsvu\"))\n",
    "\n",
    "c.rename(\"newsvu\", \"svu-new\")\n",
    "print(\"svu-new\", c.host(\"svu-new\"))\n",
    "\n",
    "# overwrite existing file(s)\n",
    "c.save()\n",
    "\n",
    "# write all to a new file\n",
    "c.write(expanduser(\"~/.ssh/newconfig\"))\n",
    "\n",
    "# creating a new config file.\n",
    "c2 = empty_ssh_config_file()\n",
    "c2.add(\"svu\", Hostname=\"ssh.svu.local\", User=\"teachmca\", Port=22)\n",
    "c2.write(\"newconfig\")\n",
    "\n",
    "c2.remove(\"svu\")  # remove"
   ]
  },
  {
   "cell_type": "code",
   "execution_count": null,
   "metadata": {},
   "outputs": [],
   "source": []
  }
 ],
 "metadata": {
  "kernelspec": {
   "display_name": ".venv",
   "language": "python",
   "name": "python3"
  },
  "language_info": {
   "codemirror_mode": {
    "name": "ipython",
    "version": 3
   },
   "file_extension": ".py",
   "mimetype": "text/x-python",
   "name": "python",
   "nbconvert_exporter": "python",
   "pygments_lexer": "ipython3",
   "version": "3.9.1"
  },
  "orig_nbformat": 4
 },
 "nbformat": 4,
 "nbformat_minor": 2
}
